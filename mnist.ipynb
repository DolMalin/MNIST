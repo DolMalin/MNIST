{
 "cells": [
  {
   "cell_type": "code",
   "execution_count": 262,
   "metadata": {},
   "outputs": [],
   "source": [
    "import torch\n",
    "from torchvision import datasets, transforms\n",
    "import torch.nn.functional as F\n",
    "import numpy as np\n",
    "import random"
   ]
  },
  {
   "cell_type": "code",
   "execution_count": 255,
   "metadata": {},
   "outputs": [],
   "source": [
    "transform = transforms.Compose([transforms.ToTensor()])\n",
    "train_data = datasets.MNIST('../data', train=True, download=True, transform=transform)\n",
    "test_data = datasets.MNIST('../data', train=False, download=True, transform=transform)"
   ]
  },
  {
   "cell_type": "code",
   "execution_count": 256,
   "metadata": {},
   "outputs": [],
   "source": [
    "weights = torch.randn(28*28, 10, requires_grad=True)\n",
    "train_loader = torch.utils.data.DataLoader(train_data, batch_size = 32, shuffle = True)\n",
    "test_loader = torch.utils.data.DataLoader(test_data, batch_size = 32, shuffle = True)\n"
   ]
  },
  {
   "cell_type": "code",
   "execution_count": 257,
   "metadata": {},
   "outputs": [],
   "source": [
    "def accuracy(weights, test_loader):\n",
    "\tcorrect = 0\n",
    "\ttest_size = len(test_loader.dataset)\n",
    "\tfor id, (data, target) in enumerate(test_loader):\n",
    "\t\tdata = data.view(-1, 28*28)\n",
    "\t\toutputs = torch.matmul(data, weights)\n",
    "\t\tsoftmax = F.softmax(outputs, dim=1)\n",
    "\t\tpred = softmax.argmax(dim=1, keepdim=True)\n",
    "\t\tn_correct = pred.eq(target.view_as(pred)).sum().item()\n",
    "\t\tcorrect += n_correct\n",
    "\treturn correct / test_size"
   ]
  },
  {
   "cell_type": "code",
   "execution_count": 258,
   "metadata": {},
   "outputs": [],
   "source": [
    "def\ttrain(weights, train_loader, learning_rate, n_test):\n",
    "    it = 0\n",
    "    for id, (data, targets) in enumerate(train_loader):\n",
    "        if weights.grad is not None:\n",
    "            weights.grad.zero_()\n",
    "\n",
    "        data = data.view(-1, 28*28)\n",
    "        outputs = torch.matmul(data, weights)\n",
    "        log_softmax = F.log_softmax(outputs, dim=1)\n",
    "        loss = F.nll_loss(log_softmax, targets)\n",
    "        loss.backward()\n",
    "        with torch.no_grad():\n",
    "            weights -= learning_rate * weights.grad\n",
    "\n",
    "        it += 1\n",
    "        if it > n_test:\n",
    "            break"
   ]
  },
  {
   "cell_type": "code",
   "execution_count": 270,
   "metadata": {},
   "outputs": [
    {
     "name": "stdout",
     "output_type": "stream",
     "text": [
      "Accuracy: 0.8771\n"
     ]
    }
   ],
   "source": [
    "train(weights, train_loader, 0.1, 6000)\n",
    "print(\"Accuracy: \" + str(accuracy(weights, test_loader)))"
   ]
  },
  {
   "cell_type": "code",
   "execution_count": 260,
   "metadata": {},
   "outputs": [],
   "source": [
    "def prediction(input):\n",
    "\tdata = input[0].view(-1, 28*28)\n",
    "\toutput = torch.matmul(data, weights)\n",
    "\tsoftmax = F.softmax(output, dim=1)\n",
    "\tpred = softmax.argmax(dim=1, keepdim=True)\n",
    "\tprint(\"Val: {} - Pred: {}\".format(pred.item(), input[1]))"
   ]
  },
  {
   "cell_type": "code",
   "execution_count": 271,
   "metadata": {},
   "outputs": [
    {
     "name": "stdout",
     "output_type": "stream",
     "text": [
      "Val: 7 - Pred: 7\n",
      "Val: 8 - Pred: 8\n",
      "Val: 5 - Pred: 5\n",
      "Val: 7 - Pred: 7\n",
      "Val: 2 - Pred: 2\n",
      "Val: 1 - Pred: 1\n",
      "Val: 4 - Pred: 4\n",
      "Val: 6 - Pred: 3\n",
      "Val: 5 - Pred: 5\n",
      "Val: 0 - Pred: 0\n",
      "Val: 9 - Pred: 9\n",
      "Val: 9 - Pred: 9\n",
      "Val: 0 - Pred: 0\n",
      "Val: 7 - Pred: 7\n",
      "Val: 9 - Pred: 9\n",
      "Val: 4 - Pred: 4\n",
      "Val: 9 - Pred: 9\n",
      "Val: 8 - Pred: 5\n",
      "Val: 9 - Pred: 9\n",
      "Val: 1 - Pred: 1\n",
      "Val: 3 - Pred: 3\n",
      "Val: 9 - Pred: 9\n",
      "Val: 9 - Pred: 9\n",
      "Val: 2 - Pred: 2\n",
      "Val: 1 - Pred: 1\n"
     ]
    }
   ],
   "source": [
    "for i in range(25):\n",
    "\tprediction(test_data[random.randint(0, 200)])"
   ]
  }
 ],
 "metadata": {
  "interpreter": {
   "hash": "a6e7a9934b8c7185be63d58825b3810c28359e76659388c4e05d4348b13ea811"
  },
  "kernelspec": {
   "display_name": "Python 3.7.13 ('42AI-pauldalmolin')",
   "language": "python",
   "name": "python3"
  },
  "language_info": {
   "codemirror_mode": {
    "name": "ipython",
    "version": 3
   },
   "file_extension": ".py",
   "mimetype": "text/x-python",
   "name": "python",
   "nbconvert_exporter": "python",
   "pygments_lexer": "ipython3",
   "version": "3.7.13"
  },
  "orig_nbformat": 4
 },
 "nbformat": 4,
 "nbformat_minor": 2
}
