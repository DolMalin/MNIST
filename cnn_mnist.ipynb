{
 "cells": [
  {
   "cell_type": "code",
   "execution_count": 131,
   "metadata": {},
   "outputs": [],
   "source": [
    "import torch\n",
    "from torchvision import datasets, transforms\n",
    "import torch.nn.functional as F\n",
    "from torch import nn"
   ]
  },
  {
   "cell_type": "markdown",
   "metadata": {},
   "source": [
    "## Hyperparameters"
   ]
  },
  {
   "cell_type": "code",
   "execution_count": 132,
   "metadata": {},
   "outputs": [],
   "source": [
    "batch_size=64\n",
    "learning_rate = 0.1"
   ]
  },
  {
   "cell_type": "markdown",
   "metadata": {},
   "source": [
    "## Download Datasets"
   ]
  },
  {
   "cell_type": "code",
   "execution_count": 133,
   "metadata": {},
   "outputs": [],
   "source": [
    "transform = transforms.Compose([transforms.ToTensor()])\n",
    "train_data = datasets.MNIST('../data', train=True, download=True, transform=transform)\n",
    "test_data = datasets.MNIST('../data', train=False, download=True, transform=transform)"
   ]
  },
  {
   "cell_type": "markdown",
   "metadata": {},
   "source": [
    "## Load Data"
   ]
  },
  {
   "cell_type": "code",
   "execution_count": 134,
   "metadata": {},
   "outputs": [],
   "source": [
    "train_loader = torch.utils.data.DataLoader(train_data, batch_size = batch_size, shuffle = True)\n",
    "test_loader = torch.utils.data.DataLoader(test_data, batch_size = batch_size, shuffle = True)"
   ]
  },
  {
   "cell_type": "markdown",
   "metadata": {},
   "source": [
    "## Model"
   ]
  },
  {
   "cell_type": "code",
   "execution_count": 135,
   "metadata": {},
   "outputs": [],
   "source": [
    "class CNN(nn.Module):\n",
    "\n",
    "\tdef __init__(self):\n",
    "\t\tsuper().__init__()\n",
    "\t\tself.conv1 = nn.Conv2d(1, 6, 5)\n",
    "\t\tself.pool = nn.MaxPool2d(2, 2)\n",
    "\t\tself.conv2 = nn.Conv2d(6, 16, 5)\n",
    "\n",
    "\t\tself.fc1 = nn.Linear(16*4*4, 120)\n",
    "\t\tself.fc2 = nn.Linear(120, 84)\n",
    "\t\tself.fc3 = nn.Linear(84, 10)\n",
    "\n",
    "\tdef forward(self, x):\n",
    "\t\tx = self.pool(F.relu(self.conv1(x)))\n",
    "\t\tx = self.pool(F.relu(self.conv2(x)))\n",
    "\t\tx = torch.flatten(x, 1)\n",
    "\t\tx = F.relu(self.fc1(x))\n",
    "\t\tx = F.relu(self.fc2(x))\n",
    "\t\tx = self.fc3(x)\n",
    "\t\treturn x"
   ]
  },
  {
   "cell_type": "code",
   "execution_count": 136,
   "metadata": {},
   "outputs": [],
   "source": [
    "model = CNN()\n",
    "loss_fn = nn.CrossEntropyLoss()\n",
    "optimizer = torch.optim.SGD(model.parameters(), lr=learning_rate)"
   ]
  },
  {
   "cell_type": "code",
   "execution_count": 137,
   "metadata": {},
   "outputs": [],
   "source": [
    "def train(train_loader, model, loss_fn, optmizer):\n",
    "\tsize = len(train_loader.dataset)\n",
    "\tbatches_l = len(train_loader)\n",
    "\tloss = 0\n",
    "\tcorrect = 0\n",
    "\n",
    "\tfor batch_idx, (data, target) in enumerate(train_loader):\n",
    "\t\tpred = model(data)\n",
    "\t\tloss = loss_fn(pred, target)\n",
    "\n",
    "\t\toptimizer.zero_grad()\n",
    "\t\tloss.backward()\n",
    "\t\toptimizer.step()\n",
    "\n",
    "\t\tif batch_idx % 100 == 0:\n",
    "\t\t\tprint(f'loss: {loss}')"
   ]
  },
  {
   "cell_type": "code",
   "execution_count": 138,
   "metadata": {},
   "outputs": [],
   "source": [
    "def test(test_loader, model, loss_fn):\n",
    "\tsize = len(test_loader.dataset)\n",
    "\tloss = 0\n",
    "\tcorrect_n = 0\n",
    "\tcorrect = 0\n",
    "\n",
    "\tfor batch_idx, (data, target) in enumerate(test_loader):\n",
    "\t\tpred = model(data)\n",
    "\t\targmax = pred.argmax(dim=1, keepdim=True)\n",
    "\t\tcorrect_n = argmax.eq(target.view_as(argmax)).sum().item()\n",
    "\t\tcorrect += correct_n\n",
    "\treturn correct / size\n"
   ]
  },
  {
   "cell_type": "code",
   "execution_count": 139,
   "metadata": {},
   "outputs": [
    {
     "name": "stdout",
     "output_type": "stream",
     "text": [
      "loss: 2.309152841567993\n",
      "loss: 1.7227963209152222\n",
      "loss: 0.43258756399154663\n",
      "loss: 0.30362626910209656\n",
      "loss: 0.26352250576019287\n",
      "loss: 0.18146449327468872\n",
      "loss: 0.18805311620235443\n",
      "loss: 0.09103556722402573\n",
      "loss: 0.0839305967092514\n",
      "loss: 0.1462973654270172\n"
     ]
    }
   ],
   "source": [
    "train(train_loader, model, loss_fn, optimizer)"
   ]
  },
  {
   "cell_type": "code",
   "execution_count": 140,
   "metadata": {},
   "outputs": [
    {
     "name": "stdout",
     "output_type": "stream",
     "text": [
      "accuracy: 0.9722\n"
     ]
    }
   ],
   "source": [
    "print(f'accuracy: {test(test_loader, model, loss_fn)}')"
   ]
  }
 ],
 "metadata": {
  "interpreter": {
   "hash": "24c963db9ee65a031bde42e321f74bba9f52bc4122a6ca53f5b8f10460613a2c"
  },
  "kernelspec": {
   "display_name": "Python 3.8.13 ('42AI')",
   "language": "python",
   "name": "python3"
  },
  "language_info": {
   "codemirror_mode": {
    "name": "ipython",
    "version": 3
   },
   "file_extension": ".py",
   "mimetype": "text/x-python",
   "name": "python",
   "nbconvert_exporter": "python",
   "pygments_lexer": "ipython3",
   "version": "3.8.13"
  },
  "orig_nbformat": 4
 },
 "nbformat": 4,
 "nbformat_minor": 2
}
